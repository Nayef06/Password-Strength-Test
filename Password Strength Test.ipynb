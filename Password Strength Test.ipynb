{
 "cells": [
  {
   "cell_type": "code",
   "execution_count": 1,
   "id": "04336ed8-25de-412e-a681-e496770e031d",
   "metadata": {},
   "outputs": [
    {
     "name": "stdout",
     "output_type": "stream",
     "text": [
      "*~-~-~-~-~-~-Python Program: Password Strenght Test-~-~-~-~-~-~*\n"
     ]
    },
    {
     "name": "stdin",
     "output_type": "stream",
     "text": [
      "Please create a password: cats\n"
     ]
    },
    {
     "name": "stdout",
     "output_type": "stream",
     "text": [
      "Your password should have a number, contain a special character, contain a capital letter and be longer.\n",
      "\n"
     ]
    },
    {
     "name": "stdin",
     "output_type": "stream",
     "text": [
      "Please create a password: nayef722\n"
     ]
    },
    {
     "name": "stdout",
     "output_type": "stream",
     "text": [
      "Your password should contain a special character and contain a capital letter.\n",
      "\n"
     ]
    },
    {
     "name": "stdin",
     "output_type": "stream",
     "text": [
      "Please create a password: Nayef_722\n"
     ]
    },
    {
     "name": "stdout",
     "output_type": "stream",
     "text": [
      "Your password is Strong!\n"
     ]
    }
   ],
   "source": [
    "#Password Strength Checker FINAL\n",
    "print(\"*~-~-~-~-~-~-Python Program: Password Strenght Test-~-~-~-~-~-~*\")\n",
    "NumCheck = False\n",
    "SpecialChar = False\n",
    "CapCheck = False\n",
    "Length = False\n",
    "Fails = []\n",
    "\n",
    "while not (NumCheck and SpecialChar and CapCheck and Length):\n",
    "        NumCheck = False\n",
    "        SpecialChar = False\n",
    "        CapCheck = False\n",
    "        Length = False\n",
    "        Fails = []\n",
    "    \n",
    "        pw = input(\"Please create a password:\")\n",
    "        if any(num in pw for num in \"1234567890\"):\n",
    "            NumCheck = True\n",
    "        else:\n",
    "            Fails.append(\"have a number\")\n",
    "            \n",
    "        \n",
    "        if any(char in pw for char in \"!@#$%^&*()-=_+\"):\n",
    "            SpecialChar = True\n",
    "        else:\n",
    "            Fails.append(\"contain a special character\")\n",
    "\n",
    "        if any(cap in pw for cap in \"QWERTYUIOPASDFGHJKLZXCVBNM\"):\n",
    "            CapCheck = True\n",
    "        else:\n",
    "            Fails.append(\"contain a capital letter\")\n",
    "\n",
    "        if len(pw) >= 8:\n",
    "            Length = True\n",
    "        else:\n",
    "            Fails.append(\"be longer\")\n",
    "\n",
    "        if not (NumCheck and SpecialChar and CapCheck and Length):\n",
    "            if len(Fails) > 1:\n",
    "                reasons = \", \".join(Fails[:-1]) + \" and \" + Fails[-1]\n",
    "            else:\n",
    "                reasons = Fails[0]\n",
    "            print(f\"Your password should {reasons}.\\n\")\n",
    "\n",
    "            \n",
    "            \n",
    "if NumCheck == True and SpecialChar == True and CapCheck == True and Length == True:\n",
    "    print(\"Your password is Strong!\")"
   ]
  },
  {
   "cell_type": "code",
   "execution_count": null,
   "id": "93b3bff6-52b4-46da-bccc-891b4699568c",
   "metadata": {},
   "outputs": [],
   "source": []
  }
 ],
 "metadata": {
  "kernelspec": {
   "display_name": "Python 3 (ipykernel)",
   "language": "python",
   "name": "python3"
  },
  "language_info": {
   "codemirror_mode": {
    "name": "ipython",
    "version": 3
   },
   "file_extension": ".py",
   "mimetype": "text/x-python",
   "name": "python",
   "nbconvert_exporter": "python",
   "pygments_lexer": "ipython3",
   "version": "3.11.9"
  }
 },
 "nbformat": 4,
 "nbformat_minor": 5
}
